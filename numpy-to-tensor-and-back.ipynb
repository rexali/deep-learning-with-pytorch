{
 "cells": [
  {
   "cell_type": "markdown",
   "metadata": {},
   "source": [
    "> To create a tensor from a Numpy array, use torch.from_numpy(). To convert a tensor to a Numpy array, use the .numpy() method."
   ]
  },
  {
   "cell_type": "code",
   "execution_count": 2,
   "metadata": {},
   "outputs": [],
   "source": [
    "# import PyTorch\n",
    "import torch"
   ]
  },
  {
   "cell_type": "code",
   "execution_count": 3,
   "metadata": {},
   "outputs": [
    {
     "data": {
      "text/plain": [
       "array([[0.22797663, 0.13888151, 0.37307876],\n",
       "       [0.05313127, 0.4521244 , 0.33514257],\n",
       "       [0.29877676, 0.71116642, 0.77907786],\n",
       "       [0.81820368, 0.50481393, 0.50076655]])"
      ]
     },
     "execution_count": 3,
     "metadata": {},
     "output_type": "execute_result"
    }
   ],
   "source": [
    "# numpy to torch and torch to numpy\n",
    "import numpy as np\n",
    "a = np.random.rand(4,3)\n",
    "a"
   ]
  },
  {
   "cell_type": "code",
   "execution_count": 4,
   "metadata": {},
   "outputs": [
    {
     "data": {
      "text/plain": [
       "tensor([[0.2280, 0.1389, 0.3731],\n",
       "        [0.0531, 0.4521, 0.3351],\n",
       "        [0.2988, 0.7112, 0.7791],\n",
       "        [0.8182, 0.5048, 0.5008]], dtype=torch.float64)"
      ]
     },
     "execution_count": 4,
     "metadata": {},
     "output_type": "execute_result"
    }
   ],
   "source": [
    "b = torch.from_numpy(a)\n",
    "b"
   ]
  },
  {
   "cell_type": "code",
   "execution_count": 5,
   "metadata": {},
   "outputs": [
    {
     "data": {
      "text/plain": [
       "array([[0.22797663, 0.13888151, 0.37307876],\n",
       "       [0.05313127, 0.4521244 , 0.33514257],\n",
       "       [0.29877676, 0.71116642, 0.77907786],\n",
       "       [0.81820368, 0.50481393, 0.50076655]])"
      ]
     },
     "execution_count": 5,
     "metadata": {},
     "output_type": "execute_result"
    }
   ],
   "source": [
    "b.numpy()"
   ]
  },
  {
   "cell_type": "code",
   "execution_count": 6,
   "metadata": {},
   "outputs": [
    {
     "data": {
      "text/plain": [
       "tensor([[0.4560, 0.2778, 0.7462],\n",
       "        [0.1063, 0.9042, 0.6703],\n",
       "        [0.5976, 1.4223, 1.5582],\n",
       "        [1.6364, 1.0096, 1.0015]], dtype=torch.float64)"
      ]
     },
     "execution_count": 6,
     "metadata": {},
     "output_type": "execute_result"
    }
   ],
   "source": [
    "# Multiply PyTorch Tensor by 2, in place\n",
    "b.mul_(2)"
   ]
  },
  {
   "cell_type": "code",
   "execution_count": 7,
   "metadata": {},
   "outputs": [
    {
     "data": {
      "text/plain": [
       "array([[0.45595325, 0.27776302, 0.74615752],\n",
       "       [0.10626254, 0.9042488 , 0.67028514],\n",
       "       [0.59755351, 1.42233284, 1.55815572],\n",
       "       [1.63640735, 1.00962785, 1.00153309]])"
      ]
     },
     "execution_count": 7,
     "metadata": {},
     "output_type": "execute_result"
    }
   ],
   "source": [
    "# Numpy array matches new values from Tensor\n",
    "a"
   ]
  },
  {
   "cell_type": "markdown",
   "metadata": {},
   "source": [
    ">The memory is shared between the Numpy array and Torch tensor, so if you change the values of b, the other, a, will change as well."
   ]
  }
 ],
 "metadata": {
  "kernelspec": {
   "display_name": "Python 3",
   "language": "python",
   "name": "python3"
  },
  "language_info": {
   "codemirror_mode": {
    "name": "ipython",
    "version": 3
   },
   "file_extension": ".py",
   "mimetype": "text/x-python",
   "name": "python",
   "nbconvert_exporter": "python",
   "pygments_lexer": "ipython3",
   "version": "3.6.8"
  }
 },
 "nbformat": 4,
 "nbformat_minor": 2
}
